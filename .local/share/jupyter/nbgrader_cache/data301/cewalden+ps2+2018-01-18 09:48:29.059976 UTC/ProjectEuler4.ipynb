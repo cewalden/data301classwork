{
 "cells": [
  {
   "cell_type": "markdown",
   "metadata": {},
   "source": [
    "# Project Euler: Problem 4"
   ]
  },
  {
   "cell_type": "markdown",
   "metadata": {},
   "source": [
    "https://projecteuler.net/problem=4\n",
    "\n",
    "A palindromic number reads the same both ways. The largest palindrome made from the product of two 2-digit numbers is 9009 = 91 × 99.\n",
    "\n",
    "Find the largest palindrome made from the product of two 3-digit numbers."
   ]
  },
  {
   "cell_type": "code",
   "execution_count": 1,
   "metadata": {
    "deletable": false,
    "nbgrader": {
     "checksum": "a5ba17ba2d63cc55e19ba1f4f9b03664",
     "grade": true,
     "grade_id": "projecteuler4",
     "locked": false,
     "points": 10,
     "schema_version": 1,
     "solution": true
    }
   },
   "outputs": [],
   "source": [
    "def is_palindrome(num):\n",
    "    s = str(num)\n",
    "    for i in range(0, int(len(s)/2)):\n",
    "        if s[i] != s[-i - 1]:\n",
    "            return False\n",
    "    return True\n",
    "\n",
    "def euler4(digits):\n",
    "    s = ''\n",
    "    for i in range(digits):\n",
    "        s+='9'\n",
    "    start = int(s)\n",
    "    i = start\n",
    "    largest = 0\n",
    "    while i > 0:\n",
    "        j = i\n",
    "        while j > 0:\n",
    "            k = i * j\n",
    "            if is_palindrome(k) and k > largest:\n",
    "                largest = k\n",
    "            j -= 1\n",
    "        i -= 1\n",
    "    return largest  "
   ]
  },
  {
   "cell_type": "code",
   "execution_count": 2,
   "metadata": {
    "deletable": false,
    "nbgrader": {
     "checksum": "a5ba17ba2d63cc55e19ba1f4f9b03664",
     "grade": true,
     "grade_id": "projecteuler4",
     "locked": false,
     "points": 10,
     "schema_version": 1,
     "solution": true
    }
   },
   "outputs": [
    {
     "name": "stdout",
     "output_type": "stream",
     "text": [
      "906609\n"
     ]
    }
   ],
   "source": [
    "print(euler4(3))"
   ]
  }
 ],
 "metadata": {
  "kernelspec": {
   "display_name": "Python 3",
   "language": "python",
   "name": "python3"
  },
  "language_info": {
   "codemirror_mode": {
    "name": "ipython",
    "version": 3
   },
   "file_extension": ".py",
   "mimetype": "text/x-python",
   "name": "python",
   "nbconvert_exporter": "python",
   "pygments_lexer": "ipython3",
   "version": "3.6.3"
  }
 },
 "nbformat": 4,
 "nbformat_minor": 2
}
