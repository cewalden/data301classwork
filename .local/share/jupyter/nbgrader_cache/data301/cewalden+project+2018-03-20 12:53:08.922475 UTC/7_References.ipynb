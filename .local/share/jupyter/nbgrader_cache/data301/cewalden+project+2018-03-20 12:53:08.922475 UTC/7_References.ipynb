{
 "cells": [
  {
   "cell_type": "markdown",
   "metadata": {},
   "source": [
    "1 : https://www.census.gov/construction/chars/microdata.html\n",
    "\n",
    "2 : https://www.census.gov/construction/chars/pdf/socmicro_info.pdf\n",
    "\n",
    "3 : Scikit-learn: Machine Learning in Python, Pedregosa et al., JMLR 12, pp. 2825-2830, 2011."
   ]
  }
 ],
 "metadata": {
  "kernelspec": {
   "display_name": "Python 3",
   "language": "python",
   "name": "python3"
  },
  "language_info": {
   "codemirror_mode": {
    "name": "ipython",
    "version": 3
   },
   "file_extension": ".py",
   "mimetype": "text/x-python",
   "name": "python",
   "nbconvert_exporter": "python",
   "pygments_lexer": "ipython3",
   "version": "3.6.3"
  }
 },
 "nbformat": 4,
 "nbformat_minor": 2
}
