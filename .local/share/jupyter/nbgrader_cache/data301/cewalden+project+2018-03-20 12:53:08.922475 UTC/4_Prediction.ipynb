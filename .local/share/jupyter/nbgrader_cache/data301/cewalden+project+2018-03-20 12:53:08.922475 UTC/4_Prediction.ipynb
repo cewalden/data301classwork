{
 "cells": [
  {
   "cell_type": "code",
   "execution_count": 1,
   "metadata": {},
   "outputs": [],
   "source": [
    "import numpy as np\n",
    "import pandas as pd\n",
    "import matplotlib.pyplot as plt\n",
    "import pyarrow.parquet as pq\n",
    "import pyarrow as pa"
   ]
  },
  {
   "cell_type": "code",
   "execution_count": 2,
   "metadata": {},
   "outputs": [
    {
     "data": {
      "text/html": [
       "<div>\n",
       "<style scoped>\n",
       "    .dataframe tbody tr th:only-of-type {\n",
       "        vertical-align: middle;\n",
       "    }\n",
       "\n",
       "    .dataframe tbody tr th {\n",
       "        vertical-align: top;\n",
       "    }\n",
       "\n",
       "    .dataframe thead th {\n",
       "        text-align: right;\n",
       "    }\n",
       "</style>\n",
       "<table border=\"1\" class=\"dataframe\">\n",
       "  <thead>\n",
       "    <tr style=\"text-align: right;\">\n",
       "      <th></th>\n",
       "      <th>ACS</th>\n",
       "      <th>AGER</th>\n",
       "      <th>ASSOC</th>\n",
       "      <th>BASE</th>\n",
       "      <th>CAT</th>\n",
       "      <th>CON</th>\n",
       "      <th>DECK</th>\n",
       "      <th>DET</th>\n",
       "      <th>DIV</th>\n",
       "      <th>FINC</th>\n",
       "      <th>...</th>\n",
       "      <th>FCONPR_F</th>\n",
       "      <th>LOTV_F</th>\n",
       "      <th>SQFS_F</th>\n",
       "      <th>FSQFS_F</th>\n",
       "      <th>PVALU_F</th>\n",
       "      <th>AUTH</th>\n",
       "      <th>COMP_D</th>\n",
       "      <th>SALE_D</th>\n",
       "      <th>STRT_D</th>\n",
       "      <th>AUTH_D</th>\n",
       "    </tr>\n",
       "  </thead>\n",
       "  <tbody>\n",
       "    <tr>\n",
       "      <th>0</th>\n",
       "      <td>2</td>\n",
       "      <td>2</td>\n",
       "      <td>1</td>\n",
       "      <td>1</td>\n",
       "      <td>1</td>\n",
       "      <td>2</td>\n",
       "      <td>1</td>\n",
       "      <td>2</td>\n",
       "      <td>1</td>\n",
       "      <td>0</td>\n",
       "      <td>...</td>\n",
       "      <td>0</td>\n",
       "      <td>0</td>\n",
       "      <td>0</td>\n",
       "      <td>0</td>\n",
       "      <td>0</td>\n",
       "      <td>201510</td>\n",
       "      <td>2016-04-01</td>\n",
       "      <td>2015-09-01</td>\n",
       "      <td>2015-10-01</td>\n",
       "      <td>2015-10-01</td>\n",
       "    </tr>\n",
       "    <tr>\n",
       "      <th>1</th>\n",
       "      <td>1</td>\n",
       "      <td>2</td>\n",
       "      <td>1</td>\n",
       "      <td>1</td>\n",
       "      <td>1</td>\n",
       "      <td>1</td>\n",
       "      <td>1</td>\n",
       "      <td>2</td>\n",
       "      <td>1</td>\n",
       "      <td>1</td>\n",
       "      <td>...</td>\n",
       "      <td>0</td>\n",
       "      <td>0</td>\n",
       "      <td>0</td>\n",
       "      <td>0</td>\n",
       "      <td>0</td>\n",
       "      <td>201605</td>\n",
       "      <td>2016-10-01</td>\n",
       "      <td>2016-08-01</td>\n",
       "      <td>2016-05-01</td>\n",
       "      <td>2016-05-01</td>\n",
       "    </tr>\n",
       "    <tr>\n",
       "      <th>2</th>\n",
       "      <td>1</td>\n",
       "      <td>2</td>\n",
       "      <td>2</td>\n",
       "      <td>1</td>\n",
       "      <td>1</td>\n",
       "      <td>2</td>\n",
       "      <td>1</td>\n",
       "      <td>1</td>\n",
       "      <td>1</td>\n",
       "      <td>0</td>\n",
       "      <td>...</td>\n",
       "      <td>0</td>\n",
       "      <td>0</td>\n",
       "      <td>0</td>\n",
       "      <td>0</td>\n",
       "      <td>0</td>\n",
       "      <td>201506</td>\n",
       "      <td>2015-12-01</td>\n",
       "      <td>2016-01-01</td>\n",
       "      <td>2015-06-01</td>\n",
       "      <td>2015-06-01</td>\n",
       "    </tr>\n",
       "    <tr>\n",
       "      <th>3</th>\n",
       "      <td>1</td>\n",
       "      <td>1</td>\n",
       "      <td>1</td>\n",
       "      <td>1</td>\n",
       "      <td>1</td>\n",
       "      <td>1</td>\n",
       "      <td>1</td>\n",
       "      <td>1</td>\n",
       "      <td>1</td>\n",
       "      <td>1</td>\n",
       "      <td>...</td>\n",
       "      <td>0</td>\n",
       "      <td>0</td>\n",
       "      <td>0</td>\n",
       "      <td>0</td>\n",
       "      <td>0</td>\n",
       "      <td>201609</td>\n",
       "      <td>2017-03-01</td>\n",
       "      <td>2016-07-01</td>\n",
       "      <td>2016-09-01</td>\n",
       "      <td>2016-09-01</td>\n",
       "    </tr>\n",
       "    <tr>\n",
       "      <th>4</th>\n",
       "      <td>1</td>\n",
       "      <td>2</td>\n",
       "      <td>1</td>\n",
       "      <td>1</td>\n",
       "      <td>1</td>\n",
       "      <td>1</td>\n",
       "      <td>1</td>\n",
       "      <td>1</td>\n",
       "      <td>1</td>\n",
       "      <td>1</td>\n",
       "      <td>...</td>\n",
       "      <td>0</td>\n",
       "      <td>0</td>\n",
       "      <td>0</td>\n",
       "      <td>0</td>\n",
       "      <td>0</td>\n",
       "      <td>201511</td>\n",
       "      <td>2016-04-01</td>\n",
       "      <td>2016-04-01</td>\n",
       "      <td>2015-11-01</td>\n",
       "      <td>2015-11-01</td>\n",
       "    </tr>\n",
       "  </tbody>\n",
       "</table>\n",
       "<p>5 rows × 64 columns</p>\n",
       "</div>"
      ],
      "text/plain": [
       "  ACS AGER ASSOC BASE CAT CON DECK DET DIV FINC    ...     FCONPR_F LOTV_F  \\\n",
       "0   2    2     1    1   1   2    1   2   1    0    ...            0      0   \n",
       "1   1    2     1    1   1   1    1   2   1    1    ...            0      0   \n",
       "2   1    2     2    1   1   2    1   1   1    0    ...            0      0   \n",
       "3   1    1     1    1   1   1    1   1   1    1    ...            0      0   \n",
       "4   1    2     1    1   1   1    1   1   1    1    ...            0      0   \n",
       "\n",
       "  SQFS_F FSQFS_F PVALU_F    AUTH     COMP_D     SALE_D     STRT_D     AUTH_D  \n",
       "0      0       0       0  201510 2016-04-01 2015-09-01 2015-10-01 2015-10-01  \n",
       "1      0       0       0  201605 2016-10-01 2016-08-01 2016-05-01 2016-05-01  \n",
       "2      0       0       0  201506 2015-12-01 2016-01-01 2015-06-01 2015-06-01  \n",
       "3      0       0       0  201609 2017-03-01 2016-07-01 2016-09-01 2016-09-01  \n",
       "4      0       0       0  201511 2016-04-01 2016-04-01 2015-11-01 2015-11-01  \n",
       "\n",
       "[5 rows x 64 columns]"
      ]
     },
     "execution_count": 2,
     "metadata": {},
     "output_type": "execute_result"
    }
   ],
   "source": [
    "filename = '/data/cewalden/soc16S.parquet'\n",
    "dfStr = pq.read_table(filename).to_pandas()\n",
    "dfStr.head()"
   ]
  },
  {
   "cell_type": "code",
   "execution_count": 3,
   "metadata": {},
   "outputs": [],
   "source": [
    "qCols = ['AREA', 'FNSQ', 'FFNSQ', 'LOTV', 'PVALU', 'FSQFS', 'CONPR', 'SLPR', 'SQFS', 'WEIGHT', 'FCONPR', 'FSLPR']\n",
    "    \n",
    "dateCols = ['COMP_D', 'SALE_D', 'STRT_D', 'AUTH_D']\n",
    "    \n",
    "dCols = ['COMP', 'SALE', 'STRT', 'AUTH']\n",
    "\n",
    "cCols = ['ACS', 'AGER', 'ASSOC', 'BASE', 'CAT', 'CON', 'DECK', 'DET', 'DIV',\n",
    "       'FINC', 'FNBS', 'FOYER', 'FRAME', 'GAR', 'HEAT', 'HEAT2', 'LNDR',\n",
    "       'METRO', 'MFGS', 'PATI', 'PRCH', 'SEWER', 'STOR', 'WAL1', 'WAL2',\n",
    "       'WALS', 'WATER', 'BEDR', 'FPLS', 'FULB', 'HAFB', 'FUEL', 'FUEL2']\n",
    "\n",
    "flags = ['AREA_F', 'FNSQ_F', 'SLPR_F', 'FSLPR_F', \n",
    "         'CONPR_F', 'FCONPR_F', 'LOTV_F', \n",
    "         'SQFS_F', 'FSQFS_F', 'PVALU_F', 'FFNSQ_F']"
   ]
  },
  {
   "cell_type": "code",
   "execution_count": 4,
   "metadata": {},
   "outputs": [
    {
     "name": "stdout",
     "output_type": "stream",
     "text": [
      "[0.97838076 0.97947926 0.97925861 0.97992056 0.98102383]\n",
      "Average 5-Fold CV Score: 0.9796126045559006\n"
     ]
    }
   ],
   "source": [
    "from sklearn.svm import LinearSVC\n",
    "from sklearn.model_selection import cross_val_score\n",
    "from sklearn.linear_model import Lasso\n",
    "from sklearn.model_selection import train_test_split\n",
    "\n",
    "cat = 'CON'\n",
    "y = dfStr[cat].values\n",
    "X = dfStr.drop(dateCols, axis = 1).drop(cat, axis = 1).drop('WEIGHT', axis = 1).values\n",
    "\n",
    "reg = LinearSVC(dual=False, tol = 1e-4)\n",
    "cv_scores = cross_val_score(reg, X, y, cv=5)\n",
    "\n",
    "print(cv_scores)\n",
    "\n",
    "print(\"Average 5-Fold CV Score: {}\".format(np.mean(cv_scores)))\n"
   ]
  },
  {
   "cell_type": "code",
   "execution_count": 5,
   "metadata": {},
   "outputs": [
    {
     "name": "stdout",
     "output_type": "stream",
     "text": [
      "[0.28631254 0.28628143 0.29927168 0.29139073 0.25502318]\n",
      "Average 5-Fold CV Score: 0.2836559133772131\n"
     ]
    }
   ],
   "source": [
    "cat = 'DIV'\n",
    "y = dfStr[cat].values\n",
    "X = dfStr.drop(dateCols, axis = 1).drop(dCols, axis = 1).drop(cat, axis = 1).drop('WEIGHT', axis=1).values\n",
    "\n",
    "reg = LinearSVC(dual=False, tol = 1e-4)\n",
    "cv_scores = cross_val_score(reg, X, y, cv=5)\n",
    "\n",
    "print(cv_scores)\n",
    "\n",
    "print(\"Average 5-Fold CV Score: {}\".format(np.mean(cv_scores)))"
   ]
  },
  {
   "cell_type": "code",
   "execution_count": 7,
   "metadata": {},
   "outputs": [],
   "source": [
    "def predictScores(X, y, regS, reps):\n",
    "    scores = []\n",
    "    for i in range(reps):\n",
    "        X_train, X_test, y_train, y_test = train_test_split(X, y, test_size = .2)\n",
    "        \n",
    "        reg = regS\n",
    "        reg.fit(X_train, y_train)\n",
    "        reg.predict(X_test)\n",
    "        scores.append(reg.score(X, y))\n",
    "        \n",
    "    print(scores)\n",
    "    print(\"Average \"+str(reps)+\"-fold division score: \" + str(np.array(scores).mean()))"
   ]
  },
  {
   "cell_type": "code",
   "execution_count": 5,
   "metadata": {},
   "outputs": [
    {
     "name": "stdout",
     "output_type": "stream",
     "text": [
      "[0.05248710697055398]\n",
      "Average 10-fold division score: 0.05248710697055398\n"
     ]
    }
   ],
   "source": [
    "cat = 'SLPR'\n",
    "y = dfStr[dfStr[cat] > 0][cat].values\n",
    "X = dfStr[dfStr[cat] > 0].drop(dateCols, axis = 1).drop(dCols, axis = 1).drop(cat, axis = 1).drop('WEIGHT', axis=1).values\n",
    "\n",
    "regS = LinearSVC(dual=False, tol = 1e-4)\n",
    "reps = 10\n",
    "scores = []\n",
    "#for i in range(reps):\n",
    "X_train, X_test, y_train, y_test = train_test_split(X, y, test_size = .2)\n",
    "    \n",
    "reg = LinearSVC(dual=False, tol = 1e-4)\n",
    "reg.fit(X_train, y_train)\n",
    "reg.predict(X_test)\n",
    "scores.append(reg.score(X, y))\n",
    "        \n",
    "print(scores)\n",
    "print(\"Average \"+str(reps)+\"-fold division score: \" + str(np.array(scores).mean()))"
   ]
  },
  {
   "cell_type": "code",
   "execution_count": 12,
   "metadata": {},
   "outputs": [
    {
     "name": "stdout",
     "output_type": "stream",
     "text": [
      "[0.7244428285521067, 0.7244419336102512, 0.724462036488027, 0.7244021536118799, 0.7245239099775493]\n",
      "Average 5-fold division score: 0.7244545724479627\n"
     ]
    }
   ],
   "source": [
    "#catDf = dfStr[dfStr['COMP'] > 0]\n",
    "#catDf = catDf[catDf['STRT'] > 0]\n",
    "\n",
    "#catDf['COMPTIME']= catDf['COMP'] - catDf['STRT']\n",
    "cat = 'SLPR'\n",
    "y = dfStr[cat].values\n",
    "X = dfStr.drop(dateCols, axis = 1).drop(cat, axis=1).drop('WEIGHT', axis=1).values\n",
    "\n",
    "predictScores(X,y,Lasso(alpha = 0.4, normalize=True),5)"
   ]
  },
  {
   "cell_type": "markdown",
   "metadata": {},
   "source": [
    "Sales price has a good prediction "
   ]
  },
  {
   "cell_type": "code",
   "execution_count": 9,
   "metadata": {},
   "outputs": [
    {
     "name": "stdout",
     "output_type": "stream",
     "text": [
      "[-3.535372605756315e-05, -1.0465139996806982e-06, -1.0463005011063231e-05, -1.837709753704786e-06, -3.150881207436562e-05, -7.21533206715641e-06, -7.051447952211021e-07, -1.613349725482216e-05, -1.8481996362895714e-05, -2.418643492374528e-06]\n",
      "Average 10-fold division score: -1.251643808688474e-05\n"
     ]
    }
   ],
   "source": [
    "cat = 'CAT'\n",
    "y = dfStr[cat].values\n",
    "X = dfStr.drop(dateCols, axis = 1).drop(dCols, axis = 1).drop(cat, axis=1).drop('WEIGHT', axis=1).values\n",
    "\n",
    "predictScores(X,y,Lasso(alpha = 0.4, normalize=True),10)"
   ]
  },
  {
   "cell_type": "code",
   "execution_count": null,
   "metadata": {},
   "outputs": [],
   "source": []
  }
 ],
 "metadata": {
  "kernelspec": {
   "display_name": "Python 3",
   "language": "python",
   "name": "python3"
  },
  "language_info": {
   "codemirror_mode": {
    "name": "ipython",
    "version": 3
   },
   "file_extension": ".py",
   "mimetype": "text/x-python",
   "name": "python",
   "nbconvert_exporter": "python",
   "pygments_lexer": "ipython3",
   "version": "3.6.3"
  }
 },
 "nbformat": 4,
 "nbformat_minor": 2
}
