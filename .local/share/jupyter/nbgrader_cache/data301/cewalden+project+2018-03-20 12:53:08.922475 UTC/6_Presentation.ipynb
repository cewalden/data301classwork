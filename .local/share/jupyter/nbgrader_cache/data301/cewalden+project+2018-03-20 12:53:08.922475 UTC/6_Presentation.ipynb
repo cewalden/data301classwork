{
 "cells": [
  {
   "cell_type": "markdown",
   "metadata": {},
   "source": [
    "## About the Dataset"
   ]
  },
  {
   "cell_type": "markdown",
   "metadata": {},
   "source": [
    "* About houses started, finished, and/or sold in 2016\n",
    "* From census.gov\n",
    "\n",
    "Meaning of values in dataset, https://www.census.gov/construction/chars/pdf/socmicro_info.pdf"
   ]
  },
  {
   "cell_type": "markdown",
   "metadata": {},
   "source": [
    "Challenge area - working with dates. Converting from integer YYYYMM format to pandas datetime, and using both to model and/or predicting the dataset"
   ]
  }
 ],
 "metadata": {
  "kernelspec": {
   "display_name": "Python 3",
   "language": "python",
   "name": "python3"
  },
  "language_info": {
   "codemirror_mode": {
    "name": "ipython",
    "version": 3
   },
   "file_extension": ".py",
   "mimetype": "text/x-python",
   "name": "python",
   "nbconvert_exporter": "python",
   "pygments_lexer": "ipython3",
   "version": "3.6.3"
  }
 },
 "nbformat": 4,
 "nbformat_minor": 2
}
