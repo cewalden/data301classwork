{
 "cells": [
  {
   "cell_type": "markdown",
   "metadata": {},
   "source": [
    "# Cleaning and Testing"
   ]
  },
  {
   "cell_type": "code",
   "execution_count": 1,
   "metadata": {},
   "outputs": [],
   "source": [
    "import numpy as np\n",
    "import pandas as pd\n",
    "import pyarrow.parquet as pq\n",
    "import pyarrow as pa"
   ]
  },
  {
   "cell_type": "code",
   "execution_count": 2,
   "metadata": {},
   "outputs": [],
   "source": [
    "data = pd.read_csv('/data/cewalden/soc16.csv')"
   ]
  },
  {
   "cell_type": "markdown",
   "metadata": {},
   "source": [
    "Made a copy of the dataframe to perform cleaning and formatting on.\n",
    "\n",
    "Dropped the CLOS column as it is not applicable for years after 2007"
   ]
  },
  {
   "cell_type": "code",
   "execution_count": 3,
   "metadata": {},
   "outputs": [],
   "source": [
    "df = data.copy().drop('CLOS', axis = 1)"
   ]
  },
  {
   "cell_type": "markdown",
   "metadata": {},
   "source": [
    "## Cleaning\n",
    "\n",
    "I decided to make a column of use pandas' datetime objects as well as using the provided \"YYYYMM\" format"
   ]
  },
  {
   "cell_type": "code",
   "execution_count": 4,
   "metadata": {},
   "outputs": [],
   "source": [
    "def toDate(x):\n",
    "    \"\"\"Tidies and converts a column of integers to a column of dates\n",
    "    >>> Unusable numbers are changed to 2010-01-01\n",
    "    \n",
    "    Parameters\n",
    "    ----------\n",
    "    x: pd.Series\n",
    "        A column of integers that are either 0 or in a YYYYMM format\n",
    "    \n",
    "    Returns\n",
    "    -------\n",
    "    dates: pd.Series\n",
    "        A column of pandas date-time objects\"\"\"\n",
    "    tempCol = x.astype(str)\n",
    "    tempCol = tempCol.replace('0', '201001')\n",
    "    return pd.to_datetime(tempCol, format=\"%Y%m\")\n",
    "\n",
    "def reformatDf(df):\n",
    "    \"\"\"Overhead function for reformatting a dataframe\n",
    "    >>> Drops and replaces columns \n",
    "    \n",
    "    Parameters\n",
    "    ----------\n",
    "    df: pd.DataFrame\n",
    "        A dataframe with certain columns formatted to be integer representations of dates\n",
    "        \n",
    "    Local Variables\n",
    "    ---------------\n",
    "    colsDate: array\n",
    "        An array of the names of columns of integers to replace with dates\n",
    "    \n",
    "    Returns\n",
    "    -------\n",
    "    df: pd.DataFrame\n",
    "        A dataframe with dates represented by pandas datetime objects\"\"\"\n",
    "    colsDate = ['COMP', 'SALE', 'STRT', 'AUTH']\n",
    "    for i in colsDate:\n",
    "        tempCol = toDate(df[i])\n",
    "        df[i+'_D'] = tempCol\n",
    "    return df"
   ]
  },
  {
   "cell_type": "code",
   "execution_count": 5,
   "metadata": {},
   "outputs": [],
   "source": [
    "df = reformatDf(df)"
   ]
  },
  {
   "cell_type": "code",
   "execution_count": 6,
   "metadata": {},
   "outputs": [],
   "source": [
    "#0 is the default missing value\n",
    "df['FOYER']= df['FOYER'].replace(np.nan, 0).astype(int)\n",
    "df['FRAME']= df['FRAME'].replace(np.nan, 0).astype(int)\n",
    "df['MFGS']= df['MFGS'].replace(np.nan, 0).astype(int)"
   ]
  },
  {
   "cell_type": "markdown",
   "metadata": {},
   "source": [
    "## Testing"
   ]
  },
  {
   "cell_type": "code",
   "execution_count": 7,
   "metadata": {},
   "outputs": [],
   "source": [
    "def checkIfEqualToSet(dataCol, setList):\n",
    "    \"\"\"Asserts that two unordered lists of unique values have the same contents\n",
    "    \n",
    "    Parameters\n",
    "    ----------\n",
    "    dataCol: np.ndarray\n",
    "        A unique array of numbers to compare to setList\n",
    "    setList: np.ndarray\n",
    "        A unique array of numbers to compare dataCol against\"\"\"\n",
    "    for i in range(len(setList)):\n",
    "        assert dataCol[i] in setList\n",
    "    assert len(setList) == len(dataCol)"
   ]
  },
  {
   "cell_type": "code",
   "execution_count": 8,
   "metadata": {},
   "outputs": [],
   "source": [
    "for i in df.columns:\n",
    "    df[i] = df[i].replace(np.nan, 0)"
   ]
  },
  {
   "cell_type": "markdown",
   "metadata": {},
   "source": [
    "#### Assertion for categorical columns"
   ]
  },
  {
   "cell_type": "code",
   "execution_count": 9,
   "metadata": {},
   "outputs": [],
   "source": [
    "flags = ['AREA_F', 'FNSQ_F', 'SLPR_F', 'FSLPR_F', \n",
    "         'CONPR_F', 'FCONPR_F', 'LOTV_F', \n",
    "         'SQFS_F', 'FSQFS_F', 'PVALU_F']\n",
    "for i in flags:\n",
    "    checkIfEqualToSet(df[i].unique(), [0,1])\n",
    "    \n",
    "zeroToThree = ['ACS', 'AGER', 'ASSOC', 'CON', \n",
    "               'DECK', 'DET', 'FNBS', 'FOYER', \n",
    "               'PATI', 'PRCH', 'WALS']\n",
    "for i in zeroToThree:\n",
    "    checkIfEqualToSet(df[i].unique(), [0,1,2])\n",
    "    \n",
    "zeroToFour = ['BASE', 'FRAME', 'GAR', 'HEAT', 'HEAT2']\n",
    "for i in zeroToFour:\n",
    "    checkIfEqualToSet(df[i].unique(), [0,1,2,3,4])\n",
    "    \n",
    "zeroToThree = ['MFGS', 'SEWER', 'STOR', 'WATER']\n",
    "for i in zeroToThree:\n",
    "    checkIfEqualToSet(df[i].unique(), [0,1,2,3])\n",
    "    \n",
    "checkIfEqualToSet(df['CAT'].unique(), [1,2,3,4])\n",
    "checkIfEqualToSet(df['DIV'].unique(), [1,2,3,4,5,6,7,8,9])\n",
    "checkIfEqualToSet(df['FINC'].unique(), [0,1,2,3,4,5])\n",
    "checkIfEqualToSet(df['LNDR'].unique(), [0,1,2,3,4,5,6])\n",
    "checkIfEqualToSet(df['METRO'].unique(), [1,2])\n",
    "checkIfEqualToSet(df['WAL1'].unique(), [0,1,2,4,5,6,7,8,9])\n",
    "checkIfEqualToSet(df['WAL2'].unique(), [0,1,2,4,5,6,7,8,9])\n",
    "checkIfEqualToSet(df['BEDR'].unique(), [0,2,3,4,5])\n",
    "checkIfEqualToSet(df['FPLS'].unique(), [0,1,2,9])\n",
    "checkIfEqualToSet(df['FULB'].unique(), [1,2,3,4,9])\n",
    "checkIfEqualToSet(df['HAFB'].unique(), [0,1,2,9])\n",
    "checkIfEqualToSet(df['FUEL'].unique(), [0,1,2,3,4,5])\n",
    "checkIfEqualToSet(df['FUEL2'].unique(), [0,1,2,3,4,5])\n",
    "checkIfEqualToSet(df['FFNSQ_F'].unique(), [0])"
   ]
  },
  {
   "cell_type": "markdown",
   "metadata": {},
   "source": [
    "Zero was the default missing value for most columns.\n",
    "\n",
    "Some column oddness included:\n",
    "* SEWER: The description said that the range was 1, 2, and used 3 as other. However, there were over 300 rows that had 0 as the value. I assumed it was still being used as the missing value and did nothing with it\n",
    "* WAL1 and WAL2: Both included \"Aluminum siding (not covered with vinyl)\" as a siding option, however there was no house that actually used it\n",
    "* FFNSQ_F: Did not indicate that the final square foot area of finished basement at time of completion had been changed\n",
    "\n",
    "Quantitative columns:\n",
    "* AREA\n",
    "* FNSQ\n",
    "* FFNSQ\n",
    "* LOTV\n",
    "* PVALU\n",
    "* FSQFS\n",
    "* CONPR\n",
    "* SLPR\n",
    "* SQFS\n",
    "* WEIGHT\n",
    "* FCONPR\n",
    "* FSLPR\n",
    "\n",
    "Columns containing dates:\n",
    "* COMP and COMP_D\n",
    "* SALE and SALE_D\n",
    "* STRT and STRT_D\n",
    "* AUTH and AUTH_D"
   ]
  },
  {
   "cell_type": "code",
   "execution_count": 10,
   "metadata": {},
   "outputs": [],
   "source": [
    "filename = '/data/cewalden/soc16.parquet'\n",
    "table = pa.Table.from_pandas(df)\n",
    "pq.write_table(table, filename)"
   ]
  }
 ],
 "metadata": {
  "kernelspec": {
   "display_name": "Python 3",
   "language": "python",
   "name": "python3"
  },
  "language_info": {
   "codemirror_mode": {
    "name": "ipython",
    "version": 3
   },
   "file_extension": ".py",
   "mimetype": "text/x-python",
   "name": "python",
   "nbconvert_exporter": "python",
   "pygments_lexer": "ipython3",
   "version": "3.6.3"
  }
 },
 "nbformat": 4,
 "nbformat_minor": 2
}
