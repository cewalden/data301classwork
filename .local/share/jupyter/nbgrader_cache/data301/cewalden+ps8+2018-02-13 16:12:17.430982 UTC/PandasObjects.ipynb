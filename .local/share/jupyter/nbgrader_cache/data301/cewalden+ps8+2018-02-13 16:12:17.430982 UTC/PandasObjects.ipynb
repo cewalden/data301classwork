{
 "cells": [
  {
   "cell_type": "markdown",
   "metadata": {},
   "source": [
    "# Pandas Objects"
   ]
  },
  {
   "cell_type": "code",
   "execution_count": 1,
   "metadata": {},
   "outputs": [],
   "source": [
    "import pandas as pd\n",
    "import numpy as np"
   ]
  },
  {
   "cell_type": "markdown",
   "metadata": {},
   "source": [
    "## Series\n",
    "\n",
    "Create a `Series` named `s1` with the following properties:\n",
    "\n",
    "* 7 values that are the first 7 lowercase letters.\n",
    "* An index of the days of the week capitalized, starting with `Sunday`."
   ]
  },
  {
   "cell_type": "code",
   "execution_count": 2,
   "metadata": {
    "deletable": false,
    "nbgrader": {
     "checksum": "d9cc8cebf4a9cc021b65b2739c59fadd",
     "grade": false,
     "grade_id": "pandas-objects-a",
     "locked": false,
     "schema_version": 1,
     "solution": true
    }
   },
   "outputs": [],
   "source": [
    "s1 = pd.Series(['a', 'b', 'c', 'd', 'e', 'f', 'g'],\n",
    "              index = ['Sunday', 'Monday', 'Tuesday', \"Wednesday\", 'Thursday', 'Friday', 'Saturday'])"
   ]
  },
  {
   "cell_type": "code",
   "execution_count": 3,
   "metadata": {
    "deletable": false,
    "editable": false,
    "nbgrader": {
     "checksum": "3a3690dfc75cf372517524d90b4f3310",
     "grade": false,
     "grade_id": "pandas-objects-b",
     "locked": true,
     "schema_version": 1,
     "solution": false
    }
   },
   "outputs": [
    {
     "data": {
      "text/plain": [
       "Sunday       a\n",
       "Monday       b\n",
       "Tuesday      c\n",
       "Wednesday    d\n",
       "Thursday     e\n",
       "Friday       f\n",
       "Saturday     g\n",
       "dtype: object"
      ]
     },
     "execution_count": 3,
     "metadata": {},
     "output_type": "execute_result"
    }
   ],
   "source": [
    "s1"
   ]
  },
  {
   "cell_type": "code",
   "execution_count": 4,
   "metadata": {
    "deletable": false,
    "editable": false,
    "nbgrader": {
     "checksum": "c4d5965d10d9bd3464569edd7c98d792",
     "grade": true,
     "grade_id": "pandas-objects-c",
     "locked": true,
     "points": 2,
     "schema_version": 1,
     "solution": false
    }
   },
   "outputs": [],
   "source": [
    "v = s1.values\n",
    "for char in 'abcdefg':\n",
    "    assert char in v\n",
    "assert 'Sunday' in s1\n",
    "assert 'Monday' in s1\n",
    "assert 'Tuesday' in s1\n",
    "assert 'Wednesday' in s1\n",
    "assert 'Thursday' in s1\n",
    "assert 'Friday' in s1\n",
    "assert 'Saturday' in s1\n",
    "assert s1.iloc[0] == 'a'\n",
    "assert s1.index[0] == 'Sunday'"
   ]
  },
  {
   "cell_type": "markdown",
   "metadata": {},
   "source": [
    "Use the `.loc` indexer to slice the `s1` `Series` by index values to create a new `Series` named `s2` with only the weekdays."
   ]
  },
  {
   "cell_type": "code",
   "execution_count": 5,
   "metadata": {
    "deletable": false,
    "nbgrader": {
     "checksum": "918575899350474819eb8763dc35bd75",
     "grade": false,
     "grade_id": "pandas-objects-d",
     "locked": false,
     "schema_version": 1,
     "solution": true
    }
   },
   "outputs": [],
   "source": [
    "s2 = s1.loc['Monday':'Friday']"
   ]
  },
  {
   "cell_type": "code",
   "execution_count": 6,
   "metadata": {
    "deletable": false,
    "editable": false,
    "nbgrader": {
     "checksum": "ab632b14ba4378b98991b9812b3dbb2c",
     "grade": false,
     "grade_id": "pandas-objects-e",
     "locked": true,
     "schema_version": 1,
     "solution": false
    }
   },
   "outputs": [
    {
     "data": {
      "text/plain": [
       "Monday       b\n",
       "Tuesday      c\n",
       "Wednesday    d\n",
       "Thursday     e\n",
       "Friday       f\n",
       "dtype: object"
      ]
     },
     "execution_count": 6,
     "metadata": {},
     "output_type": "execute_result"
    }
   ],
   "source": [
    "s2"
   ]
  },
  {
   "cell_type": "code",
   "execution_count": 7,
   "metadata": {
    "deletable": false,
    "editable": false,
    "nbgrader": {
     "checksum": "68e56c995f67648ff3c386647c34a03c",
     "grade": true,
     "grade_id": "pandas-objects-f",
     "locked": true,
     "points": 2,
     "schema_version": 1,
     "solution": false
    }
   },
   "outputs": [],
   "source": [
    "v = s2.values\n",
    "for char in 'bcdef':\n",
    "    assert char in v\n",
    "assert 'Monday' in s2\n",
    "assert 'Tuesday' in s2\n",
    "assert 'Wednesday' in s2\n",
    "assert 'Thursday' in s2\n",
    "assert 'Friday' in s2"
   ]
  },
  {
   "cell_type": "markdown",
   "metadata": {},
   "source": [
    "Use the `.iloc` indexer to slice the `s1` `Series` in a manner that reverses its values/index. Name the new `Series` `s3`."
   ]
  },
  {
   "cell_type": "code",
   "execution_count": 8,
   "metadata": {
    "deletable": false,
    "nbgrader": {
     "checksum": "9d8ace3aa69fcb307e972d5b0bada46e",
     "grade": false,
     "grade_id": "pandas-objects-g",
     "locked": false,
     "schema_version": 1,
     "solution": true
    }
   },
   "outputs": [],
   "source": [
    "s3 = s1.iloc[::-1]"
   ]
  },
  {
   "cell_type": "code",
   "execution_count": 9,
   "metadata": {
    "deletable": false,
    "editable": false,
    "nbgrader": {
     "checksum": "be9764376f2d3b37de66f4fa5ed181b2",
     "grade": false,
     "grade_id": "pandas-objects-h",
     "locked": true,
     "schema_version": 1,
     "solution": false
    }
   },
   "outputs": [
    {
     "data": {
      "text/plain": [
       "Saturday     g\n",
       "Friday       f\n",
       "Thursday     e\n",
       "Wednesday    d\n",
       "Tuesday      c\n",
       "Monday       b\n",
       "Sunday       a\n",
       "dtype: object"
      ]
     },
     "execution_count": 9,
     "metadata": {},
     "output_type": "execute_result"
    }
   ],
   "source": [
    "s3 "
   ]
  },
  {
   "cell_type": "code",
   "execution_count": 10,
   "metadata": {
    "deletable": false,
    "editable": false,
    "nbgrader": {
     "checksum": "f8140e45f68aed8686faed93df2429a4",
     "grade": true,
     "grade_id": "pandas-objects-i",
     "locked": true,
     "points": 2,
     "schema_version": 1,
     "solution": false
    }
   },
   "outputs": [],
   "source": [
    "assert ''.join(s3.values)=='gfedcba'\n",
    "assert list(s3.index)==list(reversed(s1.index))"
   ]
  },
  {
   "cell_type": "markdown",
   "metadata": {},
   "source": [
    "## DataFrame\n",
    "\n",
    "Create a `DataFrame` named `df1` with the following properties:\n",
    "\n",
    "* 10 rows.\n",
    "* An `age` column with random ages between 0 and 100 (inclusive).\n",
    "* A `cell_phone` column of randomly sampled categorical values `ios`, `android`, `windows`.\n",
    "* A `gender` column of randomly sampled categorical values `f` and `m`.\n",
    "* The order of columns should be `gender`, `age`, `cell_phone`.\n",
    "* A row index consisting of lowercase alphabetical letters."
   ]
  },
  {
   "cell_type": "code",
   "execution_count": 11,
   "metadata": {
    "deletable": false,
    "nbgrader": {
     "checksum": "d1865ebf9db730a2b6328639550896cb",
     "grade": false,
     "grade_id": "pandas-objects-j",
     "locked": false,
     "schema_version": 1,
     "solution": true
    }
   },
   "outputs": [],
   "source": [
    "df1 = pd.DataFrame(\n",
    "    {'gender' : np.random.choice(['f', 'm'], size = 10), \n",
    "     'age' : np.random.randint(0, high = 101, size = 10),\n",
    "     'cell_phone' : np.random.choice(['ios', 'android', 'windows'], size = 10)\n",
    "    }, columns = ['gender', 'age', 'cell_phone'], index = ['a', 'b', 'c', 'd', 'e', 'f', 'g', 'h', 'i', 'j'])\n",
    "df1['gender'] = df1['gender'].astype('category')\n",
    "df1['cell_phone'] = df1['cell_phone'].astype('category')"
   ]
  },
  {
   "cell_type": "code",
   "execution_count": 12,
   "metadata": {
    "deletable": false,
    "editable": false,
    "nbgrader": {
     "checksum": "69fc0e84f3c69428d96b002158dde735",
     "grade": false,
     "grade_id": "pandas-objects-k",
     "locked": true,
     "schema_version": 1,
     "solution": false
    }
   },
   "outputs": [
    {
     "data": {
      "text/html": [
       "<div>\n",
       "<style scoped>\n",
       "    .dataframe tbody tr th:only-of-type {\n",
       "        vertical-align: middle;\n",
       "    }\n",
       "\n",
       "    .dataframe tbody tr th {\n",
       "        vertical-align: top;\n",
       "    }\n",
       "\n",
       "    .dataframe thead th {\n",
       "        text-align: right;\n",
       "    }\n",
       "</style>\n",
       "<table border=\"1\" class=\"dataframe\">\n",
       "  <thead>\n",
       "    <tr style=\"text-align: right;\">\n",
       "      <th></th>\n",
       "      <th>gender</th>\n",
       "      <th>age</th>\n",
       "      <th>cell_phone</th>\n",
       "    </tr>\n",
       "  </thead>\n",
       "  <tbody>\n",
       "    <tr>\n",
       "      <th>a</th>\n",
       "      <td>f</td>\n",
       "      <td>98</td>\n",
       "      <td>windows</td>\n",
       "    </tr>\n",
       "    <tr>\n",
       "      <th>b</th>\n",
       "      <td>m</td>\n",
       "      <td>4</td>\n",
       "      <td>ios</td>\n",
       "    </tr>\n",
       "    <tr>\n",
       "      <th>c</th>\n",
       "      <td>f</td>\n",
       "      <td>21</td>\n",
       "      <td>ios</td>\n",
       "    </tr>\n",
       "    <tr>\n",
       "      <th>d</th>\n",
       "      <td>m</td>\n",
       "      <td>33</td>\n",
       "      <td>ios</td>\n",
       "    </tr>\n",
       "    <tr>\n",
       "      <th>e</th>\n",
       "      <td>m</td>\n",
       "      <td>91</td>\n",
       "      <td>ios</td>\n",
       "    </tr>\n",
       "    <tr>\n",
       "      <th>f</th>\n",
       "      <td>f</td>\n",
       "      <td>81</td>\n",
       "      <td>android</td>\n",
       "    </tr>\n",
       "    <tr>\n",
       "      <th>g</th>\n",
       "      <td>m</td>\n",
       "      <td>60</td>\n",
       "      <td>android</td>\n",
       "    </tr>\n",
       "    <tr>\n",
       "      <th>h</th>\n",
       "      <td>f</td>\n",
       "      <td>14</td>\n",
       "      <td>windows</td>\n",
       "    </tr>\n",
       "    <tr>\n",
       "      <th>i</th>\n",
       "      <td>m</td>\n",
       "      <td>36</td>\n",
       "      <td>android</td>\n",
       "    </tr>\n",
       "    <tr>\n",
       "      <th>j</th>\n",
       "      <td>f</td>\n",
       "      <td>68</td>\n",
       "      <td>ios</td>\n",
       "    </tr>\n",
       "  </tbody>\n",
       "</table>\n",
       "</div>"
      ],
      "text/plain": [
       "  gender  age cell_phone\n",
       "a      f   98    windows\n",
       "b      m    4        ios\n",
       "c      f   21        ios\n",
       "d      m   33        ios\n",
       "e      m   91        ios\n",
       "f      f   81    android\n",
       "g      m   60    android\n",
       "h      f   14    windows\n",
       "i      m   36    android\n",
       "j      f   68        ios"
      ]
     },
     "execution_count": 12,
     "metadata": {},
     "output_type": "execute_result"
    }
   ],
   "source": [
    "df1"
   ]
  },
  {
   "cell_type": "code",
   "execution_count": 13,
   "metadata": {
    "deletable": false,
    "editable": false,
    "nbgrader": {
     "checksum": "f8cb8b58c79546fc76d14d60644671a6",
     "grade": true,
     "grade_id": "pandas-objects-l",
     "locked": false,
     "points": 2,
     "schema_version": 1,
     "solution": false
    }
   },
   "outputs": [],
   "source": [
    "for char in 'abcdefghij':\n",
    "    assert char in df1.index\n",
    "assert 'age' in df1.columns\n",
    "assert 'cell_phone' in df1.columns\n",
    "assert 'gender' in df1.columns\n",
    "assert df1.age.dtype.name=='int64'\n",
    "assert df1.cell_phone.dtype.name=='category'\n",
    "assert df1.gender.dtype.name=='category'\n",
    "assert set(df1.gender.unique())=={'f','m'}\n",
    "assert set(df1.cell_phone.unique())=={'windows','android','ios'}\n",
    "assert list(df1.columns)==['gender','age','cell_phone']"
   ]
  },
  {
   "cell_type": "markdown",
   "metadata": {},
   "source": [
    "Create a new `DataFrame`, named `df2` with the following transformations:\n",
    "\n",
    "* Extract rows `a` through `g`\n",
    "* Extract the `age` and `gender` column, but put `age` first.\n",
    "* Reverse the rows to they run `g` to `a`.\n",
    "* Add a new column named `income` that is a random list of dollars between [0,10000]\n",
    "* Add a new column named `expenses` that is a random list of dollars between [0,10000]\n",
    "* Create a new column named `profit` that is computed using the `income` and `expenses` columns."
   ]
  },
  {
   "cell_type": "code",
   "execution_count": 14,
   "metadata": {
    "deletable": false,
    "nbgrader": {
     "checksum": "a34e37c7d3a954cb26b472cfe3d1a31c",
     "grade": false,
     "grade_id": "pandas-objects-m",
     "locked": false,
     "schema_version": 1,
     "solution": true
    }
   },
   "outputs": [],
   "source": [
    "df2 = df1.loc['a':'g', ['age', 'gender']]\n",
    "df2 = df2.iloc[::-1]\n",
    "df2['income'] = pd.Series(np.random.randint(0, 10001, size = len(df2.age)), index = df2.index)\n",
    "df2['expenses'] = pd.Series(np.random.randint(0, 10001, size = len(df2.age)), index = df2.index)\n",
    "df2['profit'] = df2['income'] - df2['expenses']"
   ]
  },
  {
   "cell_type": "code",
   "execution_count": 15,
   "metadata": {
    "deletable": false,
    "editable": false,
    "nbgrader": {
     "checksum": "a2d78cab57aac630401bf1f44bf9a45e",
     "grade": false,
     "grade_id": "pandas-objects-n",
     "locked": true,
     "schema_version": 1,
     "solution": false
    }
   },
   "outputs": [
    {
     "data": {
      "text/html": [
       "<div>\n",
       "<style scoped>\n",
       "    .dataframe tbody tr th:only-of-type {\n",
       "        vertical-align: middle;\n",
       "    }\n",
       "\n",
       "    .dataframe tbody tr th {\n",
       "        vertical-align: top;\n",
       "    }\n",
       "\n",
       "    .dataframe thead th {\n",
       "        text-align: right;\n",
       "    }\n",
       "</style>\n",
       "<table border=\"1\" class=\"dataframe\">\n",
       "  <thead>\n",
       "    <tr style=\"text-align: right;\">\n",
       "      <th></th>\n",
       "      <th>age</th>\n",
       "      <th>gender</th>\n",
       "      <th>income</th>\n",
       "      <th>expenses</th>\n",
       "      <th>profit</th>\n",
       "    </tr>\n",
       "  </thead>\n",
       "  <tbody>\n",
       "    <tr>\n",
       "      <th>g</th>\n",
       "      <td>60</td>\n",
       "      <td>m</td>\n",
       "      <td>2481</td>\n",
       "      <td>3341</td>\n",
       "      <td>-860</td>\n",
       "    </tr>\n",
       "    <tr>\n",
       "      <th>f</th>\n",
       "      <td>81</td>\n",
       "      <td>f</td>\n",
       "      <td>8177</td>\n",
       "      <td>6108</td>\n",
       "      <td>2069</td>\n",
       "    </tr>\n",
       "    <tr>\n",
       "      <th>e</th>\n",
       "      <td>91</td>\n",
       "      <td>m</td>\n",
       "      <td>7658</td>\n",
       "      <td>1759</td>\n",
       "      <td>5899</td>\n",
       "    </tr>\n",
       "    <tr>\n",
       "      <th>d</th>\n",
       "      <td>33</td>\n",
       "      <td>m</td>\n",
       "      <td>4778</td>\n",
       "      <td>3219</td>\n",
       "      <td>1559</td>\n",
       "    </tr>\n",
       "    <tr>\n",
       "      <th>c</th>\n",
       "      <td>21</td>\n",
       "      <td>f</td>\n",
       "      <td>6651</td>\n",
       "      <td>8530</td>\n",
       "      <td>-1879</td>\n",
       "    </tr>\n",
       "    <tr>\n",
       "      <th>b</th>\n",
       "      <td>4</td>\n",
       "      <td>m</td>\n",
       "      <td>6901</td>\n",
       "      <td>179</td>\n",
       "      <td>6722</td>\n",
       "    </tr>\n",
       "    <tr>\n",
       "      <th>a</th>\n",
       "      <td>98</td>\n",
       "      <td>f</td>\n",
       "      <td>279</td>\n",
       "      <td>4947</td>\n",
       "      <td>-4668</td>\n",
       "    </tr>\n",
       "  </tbody>\n",
       "</table>\n",
       "</div>"
      ],
      "text/plain": [
       "   age gender  income  expenses  profit\n",
       "g   60      m    2481      3341    -860\n",
       "f   81      f    8177      6108    2069\n",
       "e   91      m    7658      1759    5899\n",
       "d   33      m    4778      3219    1559\n",
       "c   21      f    6651      8530   -1879\n",
       "b    4      m    6901       179    6722\n",
       "a   98      f     279      4947   -4668"
      ]
     },
     "execution_count": 15,
     "metadata": {},
     "output_type": "execute_result"
    }
   ],
   "source": [
    "df2"
   ]
  },
  {
   "cell_type": "markdown",
   "metadata": {},
   "source": [
    "Make sure your code passes the following `assert` statements:"
   ]
  },
  {
   "cell_type": "code",
   "execution_count": 16,
   "metadata": {
    "deletable": false,
    "editable": false,
    "nbgrader": {
     "checksum": "0ad125ed248bbb910e9a3873935384f8",
     "grade": true,
     "grade_id": "pandas-objects-o",
     "locked": false,
     "points": 2,
     "schema_version": 1,
     "solution": false
    }
   },
   "outputs": [],
   "source": [
    "assert df2.index[0]=='g'\n",
    "assert df2.index[-1]=='a'\n",
    "assert list(df2.columns)==['age','gender','income','expenses','profit']\n",
    "assert df2.income.dtype.name=='int64'\n",
    "assert df2.expenses.dtype.name=='int64'\n",
    "assert df2.expenses.dtype.name=='int64'\n",
    "assert all(df2.profit+df2.expenses-df2.income==0)"
   ]
  },
  {
   "cell_type": "markdown",
   "metadata": {},
   "source": [
    "Using row filtering, column selection, and the `.mean()` method, calculate and print the average age for men and women in the `df1` `DataFrame`:"
   ]
  },
  {
   "cell_type": "code",
   "execution_count": 17,
   "metadata": {
    "deletable": false,
    "nbgrader": {
     "checksum": "b07b777bb78527772fe8128e1ae6fc5e",
     "grade": true,
     "grade_id": "pandas-objects-p",
     "locked": false,
     "points": 2,
     "schema_version": 1,
     "solution": true
    }
   },
   "outputs": [
    {
     "name": "stdout",
     "output_type": "stream",
     "text": [
      "average male age: 44.8\n",
      "average female age: 56.4\n"
     ]
    }
   ],
   "source": [
    "manAge = df1[df1['gender'] == 'm']['age'].mean()\n",
    "print(\"average male age: \" + str(manAge))\n",
    "womanAge = df1[df1['gender'] == 'f']['age'].mean()\n",
    "print(\"average female age: \" + str(womanAge))"
   ]
  },
  {
   "cell_type": "markdown",
   "metadata": {},
   "source": [
    "Use the `iloc` indexer on `df1` to extract every other row and the last column. Save the resulting `Series` as `s4`:"
   ]
  },
  {
   "cell_type": "code",
   "execution_count": 18,
   "metadata": {
    "deletable": false,
    "nbgrader": {
     "checksum": "d3e9aae6f3214122bf195e7d6bc531cc",
     "grade": false,
     "grade_id": "pandas-objects-q",
     "locked": false,
     "schema_version": 1,
     "solution": true
    }
   },
   "outputs": [],
   "source": [
    "s4 = df1.iloc[::2, -1]"
   ]
  },
  {
   "cell_type": "code",
   "execution_count": 19,
   "metadata": {
    "deletable": false,
    "editable": false,
    "nbgrader": {
     "checksum": "c4dcdd4e2fbe45e254c0c1b465553530",
     "grade": true,
     "grade_id": "pandas-objects-r",
     "locked": true,
     "points": 2,
     "schema_version": 1,
     "solution": false
    }
   },
   "outputs": [],
   "source": [
    "assert len(s4)==5\n",
    "assert list(s4.index)==list('acegi')\n",
    "assert s4.name=='cell_phone'"
   ]
  },
  {
   "cell_type": "markdown",
   "metadata": {},
   "source": [
    "Use the `.loc` indexer to extract all rows and just the `gender` and `age` columns. Save the resulting `DataFrame` as `df3`."
   ]
  },
  {
   "cell_type": "code",
   "execution_count": 20,
   "metadata": {
    "deletable": false,
    "nbgrader": {
     "checksum": "d840e3a92ca7937113a638345fd046c6",
     "grade": false,
     "grade_id": "pandas-objects-s",
     "locked": false,
     "schema_version": 1,
     "solution": true
    }
   },
   "outputs": [],
   "source": [
    "df3 = df1.loc[:, ['gender', 'age']]"
   ]
  },
  {
   "cell_type": "code",
   "execution_count": 21,
   "metadata": {
    "deletable": false,
    "editable": false,
    "nbgrader": {
     "checksum": "0bd0ba0a54ec4b62e036b72be63314b4",
     "grade": false,
     "grade_id": "pandas-objects-t",
     "locked": true,
     "schema_version": 1,
     "solution": false
    }
   },
   "outputs": [
    {
     "data": {
      "text/html": [
       "<div>\n",
       "<style scoped>\n",
       "    .dataframe tbody tr th:only-of-type {\n",
       "        vertical-align: middle;\n",
       "    }\n",
       "\n",
       "    .dataframe tbody tr th {\n",
       "        vertical-align: top;\n",
       "    }\n",
       "\n",
       "    .dataframe thead th {\n",
       "        text-align: right;\n",
       "    }\n",
       "</style>\n",
       "<table border=\"1\" class=\"dataframe\">\n",
       "  <thead>\n",
       "    <tr style=\"text-align: right;\">\n",
       "      <th></th>\n",
       "      <th>gender</th>\n",
       "      <th>age</th>\n",
       "    </tr>\n",
       "  </thead>\n",
       "  <tbody>\n",
       "    <tr>\n",
       "      <th>a</th>\n",
       "      <td>f</td>\n",
       "      <td>98</td>\n",
       "    </tr>\n",
       "    <tr>\n",
       "      <th>b</th>\n",
       "      <td>m</td>\n",
       "      <td>4</td>\n",
       "    </tr>\n",
       "    <tr>\n",
       "      <th>c</th>\n",
       "      <td>f</td>\n",
       "      <td>21</td>\n",
       "    </tr>\n",
       "    <tr>\n",
       "      <th>d</th>\n",
       "      <td>m</td>\n",
       "      <td>33</td>\n",
       "    </tr>\n",
       "    <tr>\n",
       "      <th>e</th>\n",
       "      <td>m</td>\n",
       "      <td>91</td>\n",
       "    </tr>\n",
       "    <tr>\n",
       "      <th>f</th>\n",
       "      <td>f</td>\n",
       "      <td>81</td>\n",
       "    </tr>\n",
       "    <tr>\n",
       "      <th>g</th>\n",
       "      <td>m</td>\n",
       "      <td>60</td>\n",
       "    </tr>\n",
       "    <tr>\n",
       "      <th>h</th>\n",
       "      <td>f</td>\n",
       "      <td>14</td>\n",
       "    </tr>\n",
       "    <tr>\n",
       "      <th>i</th>\n",
       "      <td>m</td>\n",
       "      <td>36</td>\n",
       "    </tr>\n",
       "    <tr>\n",
       "      <th>j</th>\n",
       "      <td>f</td>\n",
       "      <td>68</td>\n",
       "    </tr>\n",
       "  </tbody>\n",
       "</table>\n",
       "</div>"
      ],
      "text/plain": [
       "  gender  age\n",
       "a      f   98\n",
       "b      m    4\n",
       "c      f   21\n",
       "d      m   33\n",
       "e      m   91\n",
       "f      f   81\n",
       "g      m   60\n",
       "h      f   14\n",
       "i      m   36\n",
       "j      f   68"
      ]
     },
     "execution_count": 21,
     "metadata": {},
     "output_type": "execute_result"
    }
   ],
   "source": [
    "df3"
   ]
  },
  {
   "cell_type": "code",
   "execution_count": 22,
   "metadata": {
    "deletable": false,
    "editable": false,
    "nbgrader": {
     "checksum": "32cff8134a5340e0cb6ee85697bf5e8c",
     "grade": true,
     "grade_id": "pandas-objects-u",
     "locked": true,
     "points": 2,
     "schema_version": 1,
     "solution": false
    }
   },
   "outputs": [],
   "source": [
    "assert list(df3.columns)==['gender','age']\n",
    "assert len(df3)==10\n",
    "assert list(df3.index)==list('abcdefghij')"
   ]
  }
 ],
 "metadata": {
  "kernelspec": {
   "display_name": "Python 3",
   "language": "python",
   "name": "python3"
  },
  "language_info": {
   "codemirror_mode": {
    "name": "ipython",
    "version": 3
   },
   "file_extension": ".py",
   "mimetype": "text/x-python",
   "name": "python",
   "nbconvert_exporter": "python",
   "pygments_lexer": "ipython3",
   "version": "3.6.3"
  }
 },
 "nbformat": 4,
 "nbformat_minor": 2
}
