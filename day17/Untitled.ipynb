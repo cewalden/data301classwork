{
 "cells": [
  {
   "cell_type": "markdown",
   "metadata": {},
   "source": [
    "the onlyll people doing machine learning are the people who actually know what they are talking about\n"
   ]
  },
  {
   "cell_type": "markdown",
   "metadata": {},
   "source": [
    "model + params -> data\n",
    "\n",
    "use data to 'learn' or 'fit' params to model"
   ]
  },
  {
   "cell_type": "markdown",
   "metadata": {},
   "source": [
    "tidy dataframe with rows\n",
    "\n",
    "in machine learning context:\n",
    "columns are called features\n",
    "\n",
    "supervised learning:\n",
    "n-1 col are features, 1 is target\n",
    "you want to use features to predict the target\n",
    "called bc you know target ahead of time for a number of rows\n",
    "\n",
    "unsupervised learning:\n",
    "no target col\n",
    "akin to predicting whether new emails are spam or not without a preexisting dataset with spam emails\n",
    "\n",
    "supervised learning: 2 options\n",
    "if target is cont (float) - it's called regression\n",
    "if categorical - classification\n",
    "that is the only difference bw the two\n",
    "\n",
    "one possible model is a straight-line model (above line blue, below line red, etc)\n",
    "wordcounts\n",
    "\n",
    "have to think about - what is target col\n",
    "divide ds into 2 sets, train and test sets, temporary forgetting of target on a portion of data\n",
    "\n",
    "two phases: fitting (take known data), taking trained model and interping unknown stuff\n"
   ]
  },
  {
   "cell_type": "markdown",
   "metadata": {},
   "source": [
    "(look at slides for more notes)"
   ]
  },
  {
   "cell_type": "markdown",
   "metadata": {},
   "source": [
    "# Sci-kit learn"
   ]
  },
  {
   "cell_type": "markdown",
   "metadata": {},
   "source": [
    "df, n_samples = num rows, n_factors = num cols\n",
    "\n",
    "drop target row from df\n",
    "\n",
    "< features >X, < target >y\n",
    "\n",
    "hyperparameters - things that must be set before we do stuff w model\n"
   ]
  },
  {
   "cell_type": "markdown",
   "metadata": {},
   "source": [
    "initially, do a simple 80-20 split or something\n",
    "figure out a model,\n",
    "then do cross-validation\n",
    "\n",
    "bosses want cross-validation! is important!"
   ]
  },
  {
   "cell_type": "markdown",
   "metadata": {},
   "source": [
    "# Project\n",
    "\n",
    "spacy is installed, whatever that is..."
   ]
  },
  {
   "cell_type": "markdown",
   "metadata": {},
   "source": [
    "##### what i want to show you now is\n",
    "* in home directory\n",
    "\n",
    " > cd /\n",
    " > cd /data\n",
    " > mkdir cewalden\n",
    " > cd cewalden\n",
    " \n",
    " > wget *data set url*\n",
    " \n",
    "in notebook\n",
    "data = pd.read_csv('/data/cewalden/arilinesafety.csv')\n",
    " \n",
    "the case of kaggle: \n",
    "pip install kaggle\n",
    "go to account, make a token\n",
    "kaggle.json\n",
    "put it in your home\n",
    "just start playing with it i guess\n"
   ]
  }
 ],
 "metadata": {
  "kernelspec": {
   "display_name": "Python 3",
   "language": "python",
   "name": "python3"
  },
  "language_info": {
   "codemirror_mode": {
    "name": "ipython",
    "version": 3
   },
   "file_extension": ".py",
   "mimetype": "text/x-python",
   "name": "python",
   "nbconvert_exporter": "python",
   "pygments_lexer": "ipython3",
   "version": "3.6.3"
  }
 },
 "nbformat": 4,
 "nbformat_minor": 2
}
