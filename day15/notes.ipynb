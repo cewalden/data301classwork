{
 "cells": [
  {
   "cell_type": "markdown",
   "metadata": {},
   "source": [
    "the last two weeks I'm going to try to lecture less and give you more time to work on projects\n",
    "There will be some datacamp\n",
    "no more exams"
   ]
  },
  {
   "cell_type": "markdown",
   "metadata": {},
   "source": [
    "model folder\n",
    "modeling overview"
   ]
  },
  {
   "cell_type": "markdown",
   "metadata": {},
   "source": [
    "E : Experience, past data\n",
    "P : Performance, accuracy\n",
    "T: T"
   ]
  },
  {
   "cell_type": "markdown",
   "metadata": {},
   "source": [
    "Bias [ theta ] = E [ theta ] - theta\n",
    "must know true probability distribution"
   ]
  }
 ],
 "metadata": {
  "kernelspec": {
   "display_name": "Python 3",
   "language": "python",
   "name": "python3"
  },
  "language_info": {
   "codemirror_mode": {
    "name": "ipython",
    "version": 3
   },
   "file_extension": ".py",
   "mimetype": "text/x-python",
   "name": "python",
   "nbconvert_exporter": "python",
   "pygments_lexer": "ipython3",
   "version": "3.6.3"
  }
 },
 "nbformat": 4,
 "nbformat_minor": 2
}
