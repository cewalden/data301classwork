{
 "cells": [
  {
   "cell_type": "markdown",
   "metadata": {},
   "source": [
    "# Introduction"
   ]
  },
  {
   "cell_type": "markdown",
   "metadata": {},
   "source": [
    "About the dataset:\n",
    "* Obtained from census.gov \\[1\\]\n",
    "* Dataset description found at this pdf \\[2\\]\n",
    "\n",
    "[1]:https://www.census.gov/construction/chars/microdata.html\n",
    "[2]:https://www.census.gov/construction/chars/pdf/socmicro_info.pdf\n",
    "\n",
    "\n",
    "1 : https://www.census.gov/construction/chars/microdata.html\n",
    "\n",
    "2 : https://www.census.gov/construction/chars/pdf/socmicro_info.pdf"
   ]
  },
  {
   "cell_type": "markdown",
   "metadata": {},
   "source": [
    "Dataset summary:\n",
    "* Each row is a house - or group of houses - started, completed, and/or sold during 2016\n",
    "* Contains information on various house characteristics"
   ]
  },
  {
   "cell_type": "markdown",
   "metadata": {},
   "source": [
    "Important columns:\n",
    "* Weight - how many housing units represented by this sample\n",
    "* Division - what area of the country the houses were in \n",
    "* Date columns "
   ]
  }
 ],
 "metadata": {
  "kernelspec": {
   "display_name": "Python 3",
   "language": "python",
   "name": "python3"
  },
  "language_info": {
   "codemirror_mode": {
    "name": "ipython",
    "version": 3
   },
   "file_extension": ".py",
   "mimetype": "text/x-python",
   "name": "python",
   "nbconvert_exporter": "python",
   "pygments_lexer": "ipython3",
   "version": "3.6.3"
  }
 },
 "nbformat": 4,
 "nbformat_minor": 2
}
