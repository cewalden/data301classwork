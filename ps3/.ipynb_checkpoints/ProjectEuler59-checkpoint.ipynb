{
 "cells": [
  {
   "cell_type": "markdown",
   "metadata": {},
   "source": [
    "# Project Euler: Problem 59"
   ]
  },
  {
   "cell_type": "markdown",
   "metadata": {},
   "source": [
    "https://projecteuler.net/problem=59\n",
    "\n",
    "Each character on a computer is assigned a unique code and the preferred standard is ASCII (American Standard Code for Information Interchange). For example, uppercase A = 65, asterisk (*) = 42, and lowercase k = 107.\n",
    "\n",
    "A modern encryption method is to take a text file, convert the bytes to ASCII, then XOR each byte with a given value, taken from a secret key. The advantage with the XOR function is that using the same encryption key on the cipher text, restores the plain text; for example, 65 XOR 42 = 107, then 107 XOR 42 = 65.\n",
    "\n",
    "For unbreakable encryption, the key is the same length as the plain text message, and the key is made up of random bytes. The user would keep the encrypted message and the encryption key in different locations, and without both \"halves\", it is impossible to decrypt the message.\n",
    "\n",
    "Unfortunately, this method is impractical for most users, so the modified method is to use a password as a key. If the password is shorter than the message, which is likely, the key is repeated cyclically throughout the message. The balance for this method is using a sufficiently long password key for security, but short enough to be memorable.\n",
    "\n",
    "Your task has been made easy, as the encryption key consists of three lower case characters. Using cipher.txt (in this directory), a file containing the encrypted ASCII codes, and the knowledge that the plain text must contain common English words, decrypt the message and find the sum of the ASCII values in the original text."
   ]
  },
  {
   "cell_type": "markdown",
   "metadata": {},
   "source": [
    "The following cell shows examples of how to perform XOR in Python and how to go back and forth between characters and integers:"
   ]
  },
  {
   "cell_type": "code",
   "execution_count": 1,
   "metadata": {
    "deletable": false,
    "editable": false,
    "nbgrader": {
     "checksum": "2c9303d19a2b6c22658ef4dbde6d63a3",
     "grade": false,
     "grade_id": "projecteuler59a",
     "locked": true,
     "schema_version": 1,
     "solution": false
    }
   },
   "outputs": [],
   "source": [
    "assert 65 ^ 42 == 107\n",
    "assert 107 ^ 42 == 65\n",
    "assert ord('a') == 97\n",
    "assert chr(97) == 'a'"
   ]
  },
  {
   "cell_type": "markdown",
   "metadata": {},
   "source": [
    "Certain functions in the `itertools` module may be useful for computing permutations:"
   ]
  },
  {
   "cell_type": "code",
   "execution_count": 2,
   "metadata": {},
   "outputs": [],
   "source": [
    "import itertools"
   ]
  },
  {
   "cell_type": "code",
   "execution_count": 22,
   "metadata": {
    "deletable": false,
    "nbgrader": {
     "checksum": "ab1a44dadde94517fb804abf1c7b8131",
     "grade": true,
     "grade_id": "projecteuler59b",
     "locked": false,
     "points": 10,
     "schema_version": 1,
     "solution": true
    }
   },
   "outputs": [
    {
     "name": "stdout",
     "output_type": "stream",
     "text": [
      ".Zmc.Bi}ucb%ih%Lamh\"%efdvz`t.4/.4&Gk&zmc.gcilh`lhi%rf`&Yjtj%gbwcoa.`~gvrka(.Mc.rg}%qgqn.Bij)&okb.mc.rg}%Aaa(.7&F`&ydu.lh.qnk%dkbo`ko`b&ylrf%Aaa(.6&F`&mwcoqcj%cx`twqngka.qnkwc.lu %Haqngka.`~gvr}%rfdr.mc.aojk!z%konc %2.Ioh`&gquki`.rg}%o`%ngh*.dhj%rflu.ioh`&ilpkv&blafq&zj&ksc||i``(.0&Zmc.ioimr.vngkc}%rfwi{bn.qnk%bowm``u})&okb.qnk%bowm``u}%eok&``pkw&k}rgka{luf%oz+&8%Aaa&}`hz%Lamh.qnk%Dourgvr.2&zj&z`jb%cx`twjhk%gljsz%rf`&blafq&}j&zmgz%cx`twjhk%kgbnz%dkioksc.gcmds}`&ac&flu.qc}qocjhw+&6%Lamh.mocvcbc&ydu.kiz%rf`&blafq=.mc.rg}%i`i.d&ylr``u}%ra%rf`&blafq(.<&Zmc.jhk%qfj&gv&zmc.qt{`&blafq*.rna%agsc}%jgbnz%ra%cx`twjhk)&ydu.bigka.qi.fic`&gkra%rf`&yjtba(.46.Gsz%gbqnapaf%rf`&yjtba&ydu.hgj`&zmtapaf%ngh*.qnk%qawjj%bgah)q&|`eabhgc.moc%qf`h.mc.fgc`(.47.@pkk&gk&flu.jq`%jokb.dhj%gcjhi%ngv&arh.ucaujk)&f`&ydu.kiz%gmfc~qcj+&?7&Lpr.qi.djb%qfj&l`jg`pka&flk.dhj%gmfc~qcj%ngh*.mc.bgx`&zmc.woimr.qi.gcmjkk%efljjwc`%ih%Aaa(.45.Qnk|&owc.wcljt`$&Zmo}%o}%haq&o%vf|ugfgb%dgwrf%tkvsbqo`b&hwic%n{hg`%vovugjh.jt.ujok*.qngv&|`dgwrf%eahc}%`|jk.Bij+7:%Ua%rf`&Yjtj%dkfgc`&fpkok&okb.iox`b.mc|`&ak&kdtzm&ohi`b&{v(.Mc.rg}%`{ij.j`.phhdoblhi%jasc.dhj%`olrfcsbkc}v(.Dhj%qk%nosc.vckk&flu.bjaw\"%rf`&iii||&ac&zmc.jhb|&]jh.j`.qnk%@oqnkw(\n"
     ]
    }
   ],
   "source": [
    "def decrypt(a, b, c, i):\n",
    "    fil = open('p059_cipher.txt', 'r')\n",
    "    fil2 = open('text' + str(i) + '.txt', 'w')\n",
    "    iters = [a, b, c]\n",
    "    its = itertools.cycle(iters)\n",
    "    info = next(fil).split(',')\n",
    "    for i in info:\n",
    "        x = int(i)\n",
    "        fil2.write(chr(x ^ next(its)))\n",
    "    fil.close()\n",
    "    fil2.close()\n",
    "    \n",
    "def decrypt2():\n",
    "    ind = 0\n",
    "    for i in range(ord('a'), ord('z') + 1):\n",
    "        for j in range(ord('a'), ord('z') + 1):\n",
    "            for k in range(ord('a'), ord('z') + 1):\n",
    "                decrypt(i, j, k, ind)\n",
    "                fil2 = open('text' + str(ind) + '.txt', 'r')\n",
    "                info = next(fil2)\n",
    "                if 'aeirt' in info:\n",
    "                    symbols = '%&=[]{}~'\n",
    "                    okay = True\n",
    "                    for ii in range(0, len(symbols)):\n",
    "                        if symbols[ii] in info:\n",
    "                            okay = False\n",
    "                            break\n",
    "                    if okay == True:\n",
    "                        print(i,j,k)\n",
    "                        print(info)\n",
    "                        ind += 1\n",
    "                fil2.close()\n",
    "decrypt2()"
   ]
  },
  {
   "cell_type": "code",
   "execution_count": null,
   "metadata": {},
   "outputs": [],
   "source": []
  }
 ],
 "metadata": {
  "kernelspec": {
   "display_name": "Python 3",
   "language": "python",
   "name": "python3"
  },
  "language_info": {
   "codemirror_mode": {
    "name": "ipython",
    "version": 3
   },
   "file_extension": ".py",
   "mimetype": "text/x-python",
   "name": "python",
   "nbconvert_exporter": "python",
   "pygments_lexer": "ipython3",
   "version": "3.6.3"
  }
 },
 "nbformat": 4,
 "nbformat_minor": 2
}
