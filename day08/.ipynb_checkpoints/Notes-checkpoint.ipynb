{
 "cells": [
  {
   "cell_type": "markdown",
   "metadata": {},
   "source": [
    "null data\n",
    "data.isnull\n",
    "data.notnull\n",
    "data.dropna - drops rows w missing values\n"
   ]
  },
  {
   "cell_type": "markdown",
   "metadata": {},
   "source": [
    "midterm on nbgrader\n",
    "fetch, validate, etc\n",
    "lahtiidah\n",
    "list of other websites you can use\n",
    "most important thing is how fast brain can go from seeing/thinking about a problem to coding it\n",
    "code academy or code school for brushing up\n",
    "office hours M 4-6\n",
    "just like the assignments\n",
    "it's more like essay writing, it's tough (in regards to perfecting vis)\n",
    "2 or 3 problems?"
   ]
  }
 ],
 "metadata": {
  "kernelspec": {
   "display_name": "Python 3",
   "language": "python",
   "name": "python3"
  },
  "language_info": {
   "codemirror_mode": {
    "name": "ipython",
    "version": 3
   },
   "file_extension": ".py",
   "mimetype": "text/x-python",
   "name": "python",
   "nbconvert_exporter": "python",
   "pygments_lexer": "ipython3",
   "version": "3.6.3"
  }
 },
 "nbformat": 4,
 "nbformat_minor": 2
}
