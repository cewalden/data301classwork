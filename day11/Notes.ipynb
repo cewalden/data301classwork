{
 "cells": [
  {
   "cell_type": "code",
   "execution_count": null,
   "metadata": {},
   "outputs": [],
   "source": [
    "'aggregation reduces a set of values to one value (mean , median, whatever else)'"
   ]
  },
  {
   "cell_type": "markdown",
   "metadata": {},
   "source": [
    "describe is standard \n",
    "highly recommend calling describe on dataframe"
   ]
  },
  {
   "cell_type": "markdown",
   "metadata": {},
   "source": [
    "df.groupby()[] <- if pass  col, you get series. if pass [col] or [col, col....] you get df"
   ]
  },
  {
   "cell_type": "markdown",
   "metadata": {},
   "source": [
    "1. what do they take as args\n",
    "2. what do they return\n",
    "\n",
    "aggregate:\n",
    "    1.  takes list of str or functions that takes a series and returns number\n",
    "        takes single str or function\n",
    "        dict- col: agg arguments\n",
    "        df.groupby('key')['data1'].aggregate(['min', np.median, max])\n",
    "        df.groupby('key')['data1'].aggregate('min')\n",
    "        df.groupby('key').aggregate({'data1':['min', max], 'data2':max})\n",
    "    2. returns functions applied on specd cols\n",
    "filter:\n",
    "    1.  \n",
    "        takes a function that returns a boolean value (whether or not to keep rows of that group)\n",
    "        ex: \n",
    "            def filterFn(x):\n",
    "                return x['data2'].std > 4\n",
    "            df. groupby('key').filter(filter_func)\n",
    "            \n",
    "            >   key data1 data2\n",
    "            > 1  B    1     0\n",
    "            > 2  C    \n",
    "            > 3  B\n",
    "            > 4  C    \n",
    "            \n",
    "    2. returns filtered dataframe\n",
    "transform:\n",
    "    1.\n",
    "        def transform_test(x):\n",
    "            return x - x.mean()\n",
    "    2.\n",
    "apply:\n",
    "    1.\n",
    "        takes a fn"
   ]
  },
  {
   "cell_type": "markdown",
   "metadata": {},
   "source": [
    "(working with strings now)"
   ]
  },
  {
   "cell_type": "markdown",
   "metadata": {},
   "source": []
  }
 ],
 "metadata": {
  "kernelspec": {
   "display_name": "Python 3",
   "language": "python",
   "name": "python3"
  },
  "language_info": {
   "codemirror_mode": {
    "name": "ipython",
    "version": 3
   },
   "file_extension": ".py",
   "mimetype": "text/x-python",
   "name": "python",
   "nbconvert_exporter": "python",
   "pygments_lexer": "ipython3",
   "version": "3.6.3"
  }
 },
 "nbformat": 4,
 "nbformat_minor": 2
}
