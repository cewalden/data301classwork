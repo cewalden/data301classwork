{
 "cells": [
  {
   "cell_type": "markdown",
   "metadata": {},
   "source": [
    "# Project Guidelines"
   ]
  },
  {
   "cell_type": "markdown",
   "metadata": {},
   "source": [
    "## Overview"
   ]
  },
  {
   "cell_type": "markdown",
   "metadata": {},
   "source": [
    "This document describes the final project you will complete for this course. This project will build on your existing knowledge and take you to the next level with your skills in coding, software engineering, visualization, debugging, algorithmic thinking, etc.\n",
    "\n",
    "* The end result of your project will be a **computational narrative**, i.e. a *story*, that uses code, data and visualizations to communicate something of significance. You will tell this story to me in the form of notebooks and to the class in your final presentation.\n",
    "* Most importantly, the project will be a lot of **fun** and provide you with something significant you can use as the start of a data science portfolio."
   ]
  },
  {
   "cell_type": "markdown",
   "metadata": {},
   "source": [
    "## Selecting a dataset"
   ]
  },
  {
   "cell_type": "markdown",
   "metadata": {},
   "source": [
    "Use the following guidelines for picking a dataset:\n",
    "\n",
    "* Your dataset needs to be sufficiently large and complex to explore interesting questions:\n",
    "  - Tabular data\n",
    "    - Should have enough columns in one or more tables to answer interesting questions. In practice, one table with many columns or multiple tables will be required.\n",
    "    - After you have grouped by all categorical columns, the resulting groups should have at least 100s of rows.\n",
    "    - Should have numerous columns with different data types (categorical, geographical, date/time, quantitative).\n",
    "* Your dataset must be suitable for predictive statistical modelling."
   ]
  },
  {
   "cell_type": "markdown",
   "metadata": {},
   "source": [
    "## Final presentation"
   ]
  },
  {
   "cell_type": "markdown",
   "metadata": {},
   "source": [
    "To get credit for the project, you **must** present your project to the class during the official final time for the class. You will use the notebook to do your presentation.\n",
    "\n",
    "* Your presentation should be a narative that describes your data science process, and the questions you explored.\n",
    "* You should do live demonstrations and a summary of the code, but you shouldn't get too technical about the details of the code.\n",
    "* Remember, most of the class won't know anything about the dataset, topics or questions you are presenting about.\n",
    "* If you have code that takes a while to run, you should run the code before the presentation, save the results to a file, load the results from disk and perform final analysis and visualizations.\n",
    "* Your presentation notebook should be a separate notebook from the main notebook that contains the full data science process and its description.\n",
    "* You will have 5-7 minutes total for your presentation.\n",
    "\n",
    "**Students and faculty outside the class will be invited to attend the final presentations.**"
   ]
  },
  {
   "cell_type": "markdown",
   "metadata": {},
   "source": [
    "## Rubric"
   ]
  },
  {
   "cell_type": "markdown",
   "metadata": {},
   "source": [
    "You will be graded on the following categories:\n",
    "\n",
    "### Code\n",
    "\n",
    "* Code is well organized into relatively small functions (10-20 lines) that do one thing.\n",
    "* Functions have docstrings describing what they do.\n",
    "* Appropriate variable and function names are used.\n",
    "* [PEP 8](https://www.python.org/dev/peps/pep-0008/) is approximately followed for code style.\n",
    "* Code that is used in multiple notebooks is put into standalone `.py` files and imported.\n",
    "* Code is written with fast performance in mind and does not have any significant performance problems.\n",
    "* All of your notebooks should run from scratch in a reasonable amount of time. Please make a note about code that takes a long (more than a few minutes) to run.\n",
    "\n",
    "### Narrative\n",
    "\n",
    "* Narrative text in the form of Markdown cells is provided to describe the dataset, code, results, visualizations, modeling, etc.\n",
    "* When appropriate, equations are included (LaTeX).\n",
    "* You identify the core questions you will study.\n",
    "* The narrative tells a compelling *story* that motivates and answers the questions.\n",
    "* A one paragraph abstract is provided.\n",
    "\n",
    "### Organization\n",
    "\n",
    "* The project is organized into multiple notebooks with clear titles and ordering. Something like this:\n",
    "  - `01-Introduction.ipynb`\n",
    "  - `02-Import.ipynb`\n",
    "  - `03-Tidy.ipynb`\n",
    "  - `03-EDA.ipynb`\n",
    "  - `04-Modeling.ipynb`\n",
    "  - `06-Presentation.ipynb`\n",
    "* An introduction notebook is provided with the following sections:\n",
    "  - Abstract\n",
    "  - Description of the dataset.\n",
    "  - Index of other notebooks with a short description\n",
    "  - Citations\n",
    "* Each notebook has well organized Markdown sections with headings.\n",
    "* More details of the notebook format and organization will be provided.\n",
    "\n",
    "### Import and Tidy\n",
    "\n",
    "* Multiple tidy tables are used to encode one-one, one-many and many-many relationships.\n",
    "\n",
    "### Exploratory Data Analysis\n",
    "\n",
    "* Data exploration is tied to the questions you are exploring and this relationship is made explicit.\n",
    "* Visualizations adhere to the theory and practice of effective visualizations.\n",
    "* Interesting relationships in different parts of the dataset are explored.\n",
    "* Interactive widgets are used to explore the dataset interactively.\n",
    "* Appropriate visualizations are used.\n",
    "\n",
    "### Statistical modeling\n",
    "\n",
    "* Bootstrap resampling is used to create distributions and confidence intervals of any estimated statistics.\n",
    "* Appropriate statistical models (regression, maximum likelihood, classification) are built to explore relationships, extract insight from the data and make predictions.\n",
    "* Best practices of machine learning (test/train splitting, cross validation, hyper-parameter optimization, error analysis, etc.)\n",
    "* Multiple algorithms/models are compared where appropriate.\n",
    "\n",
    "### Challenge area\n",
    "\n",
    "* Your project should contain at least one challenge area that involves your learning a new Python library, statistical technique, etc.\n",
    "* Examples\n",
    "  - A new data storage format, such as HDF5.\n",
    "  - A dataset involving time series and date/times (such as financial assets over time)."
   ]
  }
 ],
 "metadata": {
  "kernelspec": {
   "display_name": "Python 3",
   "language": "python",
   "name": "python3"
  },
  "language_info": {
   "codemirror_mode": {
    "name": "ipython",
    "version": 3
   },
   "file_extension": ".py",
   "mimetype": "text/x-python",
   "name": "python",
   "nbconvert_exporter": "python",
   "pygments_lexer": "ipython3",
   "version": "3.6.3"
  }
 },
 "nbformat": 4,
 "nbformat_minor": 2
}
