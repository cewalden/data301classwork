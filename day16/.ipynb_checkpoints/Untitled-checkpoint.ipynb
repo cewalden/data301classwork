{
 "cells": [
  {
   "cell_type": "markdown",
   "metadata": {},
   "source": [
    "New notes"
   ]
  },
  {
   "cell_type": "markdown",
   "metadata": {},
   "source": [
    "more of the exact same thing as 'notes' (i guess)\n",
    "model 09"
   ]
  },
  {
   "cell_type": "markdown",
   "metadata": {},
   "source": [
    "linear regression\n"
   ]
  },
  {
   "cell_type": "code",
   "execution_count": null,
   "metadata": {},
   "outputs": [],
   "source": [
    "import numpy as np"
   ]
  },
  {
   "cell_type": "code",
   "execution_count": null,
   "metadata": {},
   "outputs": [],
   "source": [
    "N = 50\n",
    "w_true = 2\n",
    "b_true = -1\n",
    "dy = 2.0 #uncertainty of each point\n",
    "\n",
    "np.random.seed(0)\n",
    "xdata = 1- * np.random.random(N) # don't use reg spaced data\n",
    "ydata = w_true + b_true + np.random.normal(0.0, dy)"
   ]
  }
 ],
 "metadata": {
  "kernelspec": {
   "display_name": "Python 3",
   "language": "python",
   "name": "python3"
  },
  "language_info": {
   "codemirror_mode": {
    "name": "ipython",
    "version": 3
   },
   "file_extension": ".py",
   "mimetype": "text/x-python",
   "name": "python",
   "nbconvert_exporter": "python",
   "pygments_lexer": "ipython3",
   "version": "3.6.3"
  }
 },
 "nbformat": 4,
 "nbformat_minor": 2
}
