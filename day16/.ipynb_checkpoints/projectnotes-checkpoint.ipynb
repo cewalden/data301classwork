{
 "cells": [
  {
   "cell_type": "markdown",
   "metadata": {},
   "source": [
    "project notes"
   ]
  },
  {
   "cell_type": "markdown",
   "metadata": {},
   "source": [
    "There's not really a right answer\n",
    "end result is a story\n",
    "will tell story in front of classmates \n",
    "conceptually, you should think of it as writing an english paper\n",
    "if you write only code, you will not do well\n",
    "is a capstone experience"
   ]
  },
  {
   "cell_type": "markdown",
   "metadata": {},
   "source": [
    "changing data sets formats\n",
    "\n",
    "find a different data set if you don't like the one you're working on\n",
    "\n",
    "Don't post code before presentations"
   ]
  },
  {
   "cell_type": "markdown",
   "metadata": {},
   "source": [
    "how to pick a data set\n",
    "\n",
    "what am i interested in?\n",
    "you will find data sets you are interested in\n",
    "data sets that you find will likely be too big or too complex\n",
    "probably should get a data set < 2 GB\n",
    "\n",
    "dask uses a pandas style api, but less memory?\n",
    "\n",
    "cpu time is also a limitation\n",
    "\n",
    "data set is big when 1 GB (for this context)\n",
    "\n",
    "500 MB dataset maybe? \n",
    "\n",
    "will be ruthless in killing server if disrupt other students, but '2 am and everyone else is asleep, you decide to go for it'\n",
    "\n",
    "max should be is 5-10GB\n",
    "a lot of pain if over 1 GB\n",
    "\n",
    "also possible to pick too small\n",
    "\n",
    "needs to be large and complex enough to explore interesting questions\n",
    "\n",
    "will need a lot of columns 1-2 dozen (one table)\n",
    "pandas join or merge\n",
    "size of groups should be at least hundreds of rows\n",
    "\n",
    "have enough data to make good predictions\n",
    "\n",
    "mixed data types is good\n",
    "\n",
    "controversial datsets ok\n",
    "unethical/illegal obtaining of data is not ok\n",
    "\n",
    "if scraping from webpages - you have to include all python code that you used to get data\n",
    "if downloading, sources\n",
    "\n",
    "not allowed to open microsoft excel at all\n",
    "\n",
    "work that you turn in, teacher should be able to run it all without doing anything manual besides starting it\n",
    "\n",
    "catagle(?) is okay\n",
    "one of challenges is you cannot download them using command line tools, you have to be logged into there\n",
    "for files larger than 25 MB, have to ask prof to download it to your server]"
   ]
  },
  {
   "cell_type": "markdown",
   "metadata": {},
   "source": [
    "minumum bar:\n",
    "catagle data sets are a nice starting point\n",
    "there are definitely datasets that might be more interesting \n",
    "he needs a trail for tracing data\n",
    "\n",
    "your dataset must be suitable for predictive statistical modeling\n",
    "\n",
    "to get any credit for project, you must present during final times\n",
    "shouldn't get too technical\n",
    "\n",
    "presentations should be (maybe 4) 5-7 minutes\n",
    "\n",
    "presentation notebook should probably be different than code notebooks\n",
    "\n",
    "dataset should be compleex and large enough to explore interesting qs \n",
    "\n",
    "should be stored in \\data folder - not home directory or project folder\n",
    "\n",
    "code is well organized - not more than 10-20 lines of code\n",
    "documented and commented etc, pep8 style guide\n",
    "\n",
    "code is tested using assert statements\n",
    "\n",
    "code that is used in multiple notebooks should be in standalone files\n",
    "\n",
    "modular, \n",
    "fast performance,\n",
    "no more than 2GB ram\n",
    "\n",
    "code that takes more than a few minutes to run- save it to a file and load it from there\n",
    "\n",
    "have narratuve text\\markdown cells, english sentences and paragraphs\n",
    "\n",
    "when appropriate, latex equations\n",
    "\n",
    "professional-esque attire\n",
    "\n",
    "(look at projectguidelines)\n",
    "\n",
    "for **every** col in dataset, should have a set of assert statements that show you understand what's in that column\n",
    "\n",
    "dataset is explored thoroughly\n",
    "\n",
    "list \"here are the questions that I'm trying to answer\"\n",
    "\n",
    "when data vis, link to questions\n",
    "\n",
    "judgement on stuff like interactive widgets\n",
    "\n",
    "bootstrap resampling"
   ]
  },
  {
   "cell_type": "markdown",
   "metadata": {},
   "source": [
    "be careful about picking your dataset quickly"
   ]
  },
  {
   "cell_type": "markdown",
   "metadata": {},
   "source": [
    "by tuesday, 3 potential datasets to talk about\n",
    "\n",
    "questions about relationships - is this a cat or dog vs visual features that classify it as a cat or dog\n",
    "\n",
    "most will have more than one question, non will have more than 10"
   ]
  }
 ],
 "metadata": {
  "kernelspec": {
   "display_name": "",
   "name": ""
  },
  "language_info": {
   "codemirror_mode": {
    "name": "ipython",
    "version": 3
   },
   "file_extension": ".py",
   "mimetype": "text/x-python",
   "name": "python",
   "nbconvert_exporter": "python",
   "pygments_lexer": "ipython3",
   "version": "3.6.3"
  }
 },
 "nbformat": 4,
 "nbformat_minor": 2
}
