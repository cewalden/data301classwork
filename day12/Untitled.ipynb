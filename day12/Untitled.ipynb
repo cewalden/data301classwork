{
 "cells": [
  {
   "cell_type": "markdown",
   "metadata": {},
   "source": [
    "# heading 1\n",
    "\n",
    "this is markdown\n",
    "\n",
    "# 2\n",
    "this *italic*, this **bold**\n",
    "\n",
    "if u have inline text use $ \\vec{F} = m \\vec{a} $ (keep typing)\n",
    "\n",
    "$$\n",
    "\\vec{F} = m \\vec{a}\n",
    "$$\n",
    "\n",
    "this\n",
    "\n",
    "$$\n",
    "\\frac{2}{3}\n",
    "$$\n",
    "\n",
    "this\n",
    "\n",
    "$$\n",
    "\\sqrt{2}\n",
    "$$\n",
    "\n",
    "hi\n",
    "\n",
    "$$\n",
    "\\alpha \\beta \\gamma \\delta\n",
    "$$"
   ]
  },
  {
   "cell_type": "markdown",
   "metadata": {},
   "source": [
    "# heading 1\n",
    "\n",
    "this is markdown\n",
    "\n",
    "# 2\n",
    "this *italic*, this **bold**\n",
    "\n",
    "if u have inline text use $ \\vec{F} = m \\vec{a} $ (keep typing)\n",
    "\n",
    "$$\n",
    "\\vec{F} = m \\vec{a}\n",
    "$$\n",
    "\n",
    "this\n",
    "\n",
    "$$\n",
    "\\frac{2}{3}\n",
    "$$\n",
    "\n",
    "this\n",
    "\n",
    "$$\n",
    "\\sqrt{2}\n",
    "$$\n",
    "\n",
    "hi\n",
    "\n",
    "$$\n",
    "\\alpha \\beta \\gamma \\delta\n",
    "$$"
   ]
  },
  {
   "cell_type": "markdown",
   "metadata": {},
   "source": [
    "pythondatasciencehandbook\n",
    "4.0\n",
    "4.01"
   ]
  },
  {
   "cell_type": "markdown",
   "metadata": {},
   "source": [
    "matplot lib - you create a figure, it uses it"
   ]
  }
 ],
 "metadata": {
  "kernelspec": {
   "display_name": "Python 3",
   "language": "python",
   "name": "python3"
  },
  "language_info": {
   "codemirror_mode": {
    "name": "ipython",
    "version": 3
   },
   "file_extension": ".py",
   "mimetype": "text/x-python",
   "name": "python",
   "nbconvert_exporter": "python",
   "pygments_lexer": "ipython3",
   "version": "3.6.3"
  }
 },
 "nbformat": 4,
 "nbformat_minor": 2
}
